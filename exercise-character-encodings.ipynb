{
 "cells": [
  {
   "cell_type": "markdown",
   "id": "5bc4b20d",
   "metadata": {
    "papermill": {
     "duration": 0.013413,
     "end_time": "2021-07-09T11:45:34.269580",
     "exception": false,
     "start_time": "2021-07-09T11:45:34.256167",
     "status": "completed"
    },
    "tags": []
   },
   "source": [
    "**This notebook is an exercise in the [Data Cleaning](https://www.kaggle.com/learn/data-cleaning) course.  You can reference the tutorial at [this link](https://www.kaggle.com/alexisbcook/character-encodings).**\n",
    "\n",
    "---\n"
   ]
  },
  {
   "cell_type": "markdown",
   "id": "61419505",
   "metadata": {
    "papermill": {
     "duration": 0.012645,
     "end_time": "2021-07-09T11:45:34.300917",
     "exception": false,
     "start_time": "2021-07-09T11:45:34.288272",
     "status": "completed"
    },
    "tags": []
   },
   "source": [
    "In this exercise, you'll apply what you learned in the **Character encodings** tutorial.\n",
    "\n",
    "# Setup\n",
    "\n",
    "The questions below will give you feedback on your work. Run the following cell to set up the feedback system."
   ]
  },
  {
   "cell_type": "code",
   "execution_count": 1,
   "id": "62d7bb24",
   "metadata": {
    "execution": {
     "iopub.execute_input": "2021-07-09T11:45:34.330615Z",
     "iopub.status.busy": "2021-07-09T11:45:34.329441Z",
     "iopub.status.idle": "2021-07-09T11:45:34.525876Z",
     "shell.execute_reply": "2021-07-09T11:45:34.526617Z",
     "shell.execute_reply.started": "2021-07-09T11:21:34.054371Z"
    },
    "papermill": {
     "duration": 0.213331,
     "end_time": "2021-07-09T11:45:34.527000",
     "exception": false,
     "start_time": "2021-07-09T11:45:34.313669",
     "status": "completed"
    },
    "tags": []
   },
   "outputs": [
    {
     "name": "stdout",
     "output_type": "stream",
     "text": [
      "Setup Complete\n"
     ]
    }
   ],
   "source": [
    "from learntools.core import binder\n",
    "binder.bind(globals())\n",
    "from learntools.data_cleaning.ex4 import *\n",
    "print(\"Setup Complete\")"
   ]
  },
  {
   "cell_type": "markdown",
   "id": "991e2b40",
   "metadata": {
    "papermill": {
     "duration": 0.013641,
     "end_time": "2021-07-09T11:45:34.555587",
     "exception": false,
     "start_time": "2021-07-09T11:45:34.541946",
     "status": "completed"
    },
    "tags": []
   },
   "source": [
    "# Get our environment set up\n",
    "\n",
    "The first thing we'll need to do is load in the libraries we'll be using."
   ]
  },
  {
   "cell_type": "code",
   "execution_count": 2,
   "id": "8f2ba8ec",
   "metadata": {
    "execution": {
     "iopub.execute_input": "2021-07-09T11:45:34.585344Z",
     "iopub.status.busy": "2021-07-09T11:45:34.584738Z",
     "iopub.status.idle": "2021-07-09T11:45:34.589806Z",
     "shell.execute_reply": "2021-07-09T11:45:34.589287Z",
     "shell.execute_reply.started": "2021-07-09T11:26:00.782325Z"
    },
    "papermill": {
     "duration": 0.021215,
     "end_time": "2021-07-09T11:45:34.589945",
     "exception": false,
     "start_time": "2021-07-09T11:45:34.568730",
     "status": "completed"
    },
    "tags": []
   },
   "outputs": [],
   "source": [
    "# modules we'll use\n",
    "import pandas as pd\n",
    "import numpy as np\n",
    "\n",
    "# helpful character encoding module\n",
    "import chardet\n",
    "\n",
    "# set seed for reproducibility\n",
    "np.random.seed(0)"
   ]
  },
  {
   "cell_type": "markdown",
   "id": "19423403",
   "metadata": {
    "papermill": {
     "duration": 0.013628,
     "end_time": "2021-07-09T11:45:34.617276",
     "exception": false,
     "start_time": "2021-07-09T11:45:34.603648",
     "status": "completed"
    },
    "tags": []
   },
   "source": [
    "# 1) What are encodings?\n",
    "\n",
    "You're working with a dataset composed of bytes.  Run the code cell below to print a sample entry."
   ]
  },
  {
   "cell_type": "code",
   "execution_count": 3,
   "id": "33d2da88",
   "metadata": {
    "execution": {
     "iopub.execute_input": "2021-07-09T11:45:34.647666Z",
     "iopub.status.busy": "2021-07-09T11:45:34.647023Z",
     "iopub.status.idle": "2021-07-09T11:45:34.651739Z",
     "shell.execute_reply": "2021-07-09T11:45:34.652207Z",
     "shell.execute_reply.started": "2021-07-09T11:26:06.402936Z"
    },
    "papermill": {
     "duration": 0.021546,
     "end_time": "2021-07-09T11:45:34.652365",
     "exception": false,
     "start_time": "2021-07-09T11:45:34.630819",
     "status": "completed"
    },
    "tags": []
   },
   "outputs": [
    {
     "name": "stdout",
     "output_type": "stream",
     "text": [
      "b'\\xa7A\\xa6n'\n",
      "data type: <class 'bytes'>\n"
     ]
    }
   ],
   "source": [
    "sample_entry = b'\\xa7A\\xa6n'\n",
    "print(sample_entry)\n",
    "print('data type:', type(sample_entry))"
   ]
  },
  {
   "cell_type": "markdown",
   "id": "97b36015",
   "metadata": {
    "papermill": {
     "duration": 0.01306,
     "end_time": "2021-07-09T11:45:34.678897",
     "exception": false,
     "start_time": "2021-07-09T11:45:34.665837",
     "status": "completed"
    },
    "tags": []
   },
   "source": [
    "You notice that it doesn't use the standard UTF-8 encoding. \n",
    "\n",
    "Use the next code cell to create a variable `new_entry` that changes the encoding from `\"big5-tw\"` to `\"utf-8\"`.  `new_entry` should have the bytes datatype."
   ]
  },
  {
   "cell_type": "code",
   "execution_count": 4,
   "id": "6f29ba09",
   "metadata": {
    "execution": {
     "iopub.execute_input": "2021-07-09T11:45:34.708896Z",
     "iopub.status.busy": "2021-07-09T11:45:34.708276Z",
     "iopub.status.idle": "2021-07-09T11:45:34.717368Z",
     "shell.execute_reply": "2021-07-09T11:45:34.717924Z",
     "shell.execute_reply.started": "2021-07-09T11:36:29.730506Z"
    },
    "papermill": {
     "duration": 0.025653,
     "end_time": "2021-07-09T11:45:34.718084",
     "exception": false,
     "start_time": "2021-07-09T11:45:34.692431",
     "status": "completed"
    },
    "tags": []
   },
   "outputs": [
    {
     "data": {
      "application/javascript": [
       "parent.postMessage({\"jupyterEvent\": \"custom.exercise_interaction\", \"data\": {\"outcomeType\": 1, \"valueTowardsCompletion\": 0.3333333333333333, \"interactionType\": 1, \"questionType\": 1, \"questionId\": \"1_EncodingsIntro\", \"learnToolsVersion\": \"0.3.4\", \"failureMessage\": \"\", \"exceptionClass\": \"\", \"trace\": \"\"}}, \"*\")"
      ],
      "text/plain": [
       "<IPython.core.display.Javascript object>"
      ]
     },
     "metadata": {},
     "output_type": "display_data"
    },
    {
     "data": {
      "text/markdown": [
       "<span style=\"color:#33cc33\">Correct</span>"
      ],
      "text/plain": [
       "Correct"
      ]
     },
     "metadata": {},
     "output_type": "display_data"
    }
   ],
   "source": [
    "before = sample_entry.decode(\"big5-tw\")\n",
    "new_entry = before.encode()\n",
    "\n",
    "# Check your answer\n",
    "q1.check()"
   ]
  },
  {
   "cell_type": "code",
   "execution_count": 5,
   "id": "bb2c3602",
   "metadata": {
    "execution": {
     "iopub.execute_input": "2021-07-09T11:45:34.750362Z",
     "iopub.status.busy": "2021-07-09T11:45:34.749751Z",
     "iopub.status.idle": "2021-07-09T11:45:34.759454Z",
     "shell.execute_reply": "2021-07-09T11:45:34.760018Z",
     "shell.execute_reply.started": "2021-07-09T11:34:57.613549Z"
    },
    "papermill": {
     "duration": 0.02755,
     "end_time": "2021-07-09T11:45:34.760205",
     "exception": false,
     "start_time": "2021-07-09T11:45:34.732655",
     "status": "completed"
    },
    "tags": []
   },
   "outputs": [
    {
     "data": {
      "application/javascript": [
       "parent.postMessage({\"jupyterEvent\": \"custom.exercise_interaction\", \"data\": {\"interactionType\": 2, \"questionType\": 1, \"questionId\": \"1_EncodingsIntro\", \"learnToolsVersion\": \"0.3.4\", \"valueTowardsCompletion\": 0.0, \"failureMessage\": \"\", \"exceptionClass\": \"\", \"trace\": \"\", \"outcomeType\": 4}}, \"*\")"
      ],
      "text/plain": [
       "<IPython.core.display.Javascript object>"
      ]
     },
     "metadata": {},
     "output_type": "display_data"
    },
    {
     "data": {
      "text/markdown": [
       "<span style=\"color:#3366cc\">Hint:</span> Try using `.decode()` to get the string, then `.encode()` to get the bytes representation, encoded in UTF-8."
      ],
      "text/plain": [
       "Hint: Try using `.decode()` to get the string, then `.encode()` to get the bytes representation, encoded in UTF-8."
      ]
     },
     "metadata": {},
     "output_type": "display_data"
    },
    {
     "data": {
      "application/javascript": [
       "parent.postMessage({\"jupyterEvent\": \"custom.exercise_interaction\", \"data\": {\"interactionType\": 3, \"questionType\": 1, \"questionId\": \"1_EncodingsIntro\", \"learnToolsVersion\": \"0.3.4\", \"valueTowardsCompletion\": 0.0, \"failureMessage\": \"\", \"exceptionClass\": \"\", \"trace\": \"\", \"outcomeType\": 4}}, \"*\")"
      ],
      "text/plain": [
       "<IPython.core.display.Javascript object>"
      ]
     },
     "metadata": {},
     "output_type": "display_data"
    },
    {
     "data": {
      "text/markdown": [
       "<span style=\"color:#33cc99\">Solution:</span> \n",
       "```python\n",
       "before = sample_entry.decode(\"big5-tw\")\n",
       "new_entry = before.encode()\n",
       "\n",
       "```"
      ],
      "text/plain": [
       "Solution: \n",
       "```python\n",
       "before = sample_entry.decode(\"big5-tw\")\n",
       "new_entry = before.encode()\n",
       "\n",
       "```"
      ]
     },
     "metadata": {},
     "output_type": "display_data"
    }
   ],
   "source": [
    "# Lines below will give you a hint or solution code\n",
    "q1.hint()\n",
    "q1.solution()"
   ]
  },
  {
   "cell_type": "markdown",
   "id": "8a44322b",
   "metadata": {
    "papermill": {
     "duration": 0.016092,
     "end_time": "2021-07-09T11:45:34.792704",
     "exception": false,
     "start_time": "2021-07-09T11:45:34.776612",
     "status": "completed"
    },
    "tags": []
   },
   "source": [
    "# 2) Reading in files with encoding problems\n",
    "\n",
    "Use the code cell below to read in this file at path `\"../input/fatal-police-shootings-in-the-us/PoliceKillingsUS.csv\"`.  \n",
    "\n",
    "Figure out what the correct encoding should be and read in the file to a DataFrame `police_killings`."
   ]
  },
  {
   "cell_type": "code",
   "execution_count": 6,
   "id": "a6472a74",
   "metadata": {
    "execution": {
     "iopub.execute_input": "2021-07-09T11:45:34.829001Z",
     "iopub.status.busy": "2021-07-09T11:45:34.828413Z",
     "iopub.status.idle": "2021-07-09T11:45:34.855933Z",
     "shell.execute_reply": "2021-07-09T11:45:34.855421Z",
     "shell.execute_reply.started": "2021-07-09T11:37:58.607886Z"
    },
    "papermill": {
     "duration": 0.046671,
     "end_time": "2021-07-09T11:45:34.856075",
     "exception": false,
     "start_time": "2021-07-09T11:45:34.809404",
     "status": "completed"
    },
    "tags": []
   },
   "outputs": [
    {
     "data": {
      "application/javascript": [
       "parent.postMessage({\"jupyterEvent\": \"custom.exercise_interaction\", \"data\": {\"outcomeType\": 1, \"valueTowardsCompletion\": 0.3333333333333333, \"interactionType\": 1, \"questionType\": 1, \"questionId\": \"2_ReadIn\", \"learnToolsVersion\": \"0.3.4\", \"failureMessage\": \"\", \"exceptionClass\": \"\", \"trace\": \"\"}}, \"*\")"
      ],
      "text/plain": [
       "<IPython.core.display.Javascript object>"
      ]
     },
     "metadata": {},
     "output_type": "display_data"
    },
    {
     "data": {
      "text/markdown": [
       "<span style=\"color:#33cc33\">Correct</span>"
      ],
      "text/plain": [
       "Correct"
      ]
     },
     "metadata": {},
     "output_type": "display_data"
    }
   ],
   "source": [
    "# TODO: Load in the DataFrame correctly.\n",
    "police_killings = pd.read_csv(\"../input/fatal-police-shootings-in-the-us/PoliceKillingsUS.csv\", encoding='Windows-1252')\n",
    "\n",
    "# Check your answer\n",
    "q2.check()"
   ]
  },
  {
   "cell_type": "markdown",
   "id": "ecb611a9",
   "metadata": {
    "papermill": {
     "duration": 0.016845,
     "end_time": "2021-07-09T11:45:34.890511",
     "exception": false,
     "start_time": "2021-07-09T11:45:34.873666",
     "status": "completed"
    },
    "tags": []
   },
   "source": [
    "Feel free to use any additional code cells for supplemental work.  To get credit for finishing this question, you'll need to run `q2.check()` and get a result of **Correct**."
   ]
  },
  {
   "cell_type": "code",
   "execution_count": 7,
   "id": "3700607b",
   "metadata": {
    "execution": {
     "iopub.execute_input": "2021-07-09T11:45:34.930977Z",
     "iopub.status.busy": "2021-07-09T11:45:34.930333Z",
     "iopub.status.idle": "2021-07-09T11:45:34.940689Z",
     "shell.execute_reply": "2021-07-09T11:45:34.941253Z",
     "shell.execute_reply.started": "2021-07-09T11:36:51.101118Z"
    },
    "papermill": {
     "duration": 0.033846,
     "end_time": "2021-07-09T11:45:34.941499",
     "exception": false,
     "start_time": "2021-07-09T11:45:34.907653",
     "status": "completed"
    },
    "tags": []
   },
   "outputs": [
    {
     "data": {
      "application/javascript": [
       "parent.postMessage({\"jupyterEvent\": \"custom.exercise_interaction\", \"data\": {\"interactionType\": 2, \"questionType\": 1, \"questionId\": \"2_ReadIn\", \"learnToolsVersion\": \"0.3.4\", \"valueTowardsCompletion\": 0.0, \"failureMessage\": \"\", \"exceptionClass\": \"\", \"trace\": \"\", \"outcomeType\": 4}}, \"*\")"
      ],
      "text/plain": [
       "<IPython.core.display.Javascript object>"
      ]
     },
     "metadata": {},
     "output_type": "display_data"
    },
    {
     "data": {
      "text/markdown": [
       "<span style=\"color:#3366cc\">Hint:</span> If you try to guess the encoding with the first 10,000 bytes of the file, it might give you the wrong answer.  Try using 100,000 or more lines of the file."
      ],
      "text/plain": [
       "Hint: If you try to guess the encoding with the first 10,000 bytes of the file, it might give you the wrong answer.  Try using 100,000 or more lines of the file."
      ]
     },
     "metadata": {},
     "output_type": "display_data"
    },
    {
     "data": {
      "application/javascript": [
       "parent.postMessage({\"jupyterEvent\": \"custom.exercise_interaction\", \"data\": {\"interactionType\": 3, \"questionType\": 1, \"questionId\": \"2_ReadIn\", \"learnToolsVersion\": \"0.3.4\", \"valueTowardsCompletion\": 0.0, \"failureMessage\": \"\", \"exceptionClass\": \"\", \"trace\": \"\", \"outcomeType\": 4}}, \"*\")"
      ],
      "text/plain": [
       "<IPython.core.display.Javascript object>"
      ]
     },
     "metadata": {},
     "output_type": "display_data"
    },
    {
     "data": {
      "text/markdown": [
       "<span style=\"color:#33cc99\">Solution:</span> \n",
       "```python\n",
       "police_killings = pd.read_csv(\"../input/fatal-police-shootings-in-the-us/PoliceKillingsUS.csv\", encoding='Windows-1252')\n",
       "\n",
       "```"
      ],
      "text/plain": [
       "Solution: \n",
       "```python\n",
       "police_killings = pd.read_csv(\"../input/fatal-police-shootings-in-the-us/PoliceKillingsUS.csv\", encoding='Windows-1252')\n",
       "\n",
       "```"
      ]
     },
     "metadata": {},
     "output_type": "display_data"
    }
   ],
   "source": [
    "# Lines below will give you a hint or solution code\n",
    "q2.hint()\n",
    "q2.solution()"
   ]
  },
  {
   "cell_type": "markdown",
   "id": "a09c4357",
   "metadata": {
    "papermill": {
     "duration": 0.025168,
     "end_time": "2021-07-09T11:45:34.992947",
     "exception": false,
     "start_time": "2021-07-09T11:45:34.967779",
     "status": "completed"
    },
    "tags": []
   },
   "source": [
    "# 3) Saving your files with UTF-8 encoding\n",
    "\n",
    "Save a version of the police killings dataset to CSV with UTF-8 encoding.  Your answer will be marked correct after saving this file.  \n",
    "\n",
    "Note: When using the `to_csv()` method, supply only the name of the file (e.g., `\"my_file.csv\"`).  This saves the file at the filepath `\"/kaggle/working/my_file.csv\"`."
   ]
  },
  {
   "cell_type": "code",
   "execution_count": 8,
   "id": "480b8363",
   "metadata": {
    "execution": {
     "iopub.execute_input": "2021-07-09T11:45:35.038749Z",
     "iopub.status.busy": "2021-07-09T11:45:35.038024Z",
     "iopub.status.idle": "2021-07-09T11:45:35.089830Z",
     "shell.execute_reply": "2021-07-09T11:45:35.090603Z",
     "shell.execute_reply.started": "2021-07-09T11:44:27.911827Z"
    },
    "papermill": {
     "duration": 0.07788,
     "end_time": "2021-07-09T11:45:35.090851",
     "exception": false,
     "start_time": "2021-07-09T11:45:35.012971",
     "status": "completed"
    },
    "tags": []
   },
   "outputs": [
    {
     "data": {
      "application/javascript": [
       "parent.postMessage({\"jupyterEvent\": \"custom.exercise_interaction\", \"data\": {\"outcomeType\": 1, \"valueTowardsCompletion\": 0.3333333333333333, \"interactionType\": 1, \"questionType\": 2, \"questionId\": \"3_SaveCSV\", \"learnToolsVersion\": \"0.3.4\", \"failureMessage\": \"\", \"exceptionClass\": \"\", \"trace\": \"\"}}, \"*\")"
      ],
      "text/plain": [
       "<IPython.core.display.Javascript object>"
      ]
     },
     "metadata": {},
     "output_type": "display_data"
    },
    {
     "data": {
      "text/markdown": [
       "<span style=\"color:#33cc33\">Correct</span>"
      ],
      "text/plain": [
       "Correct"
      ]
     },
     "metadata": {},
     "output_type": "display_data"
    }
   ],
   "source": [
    "# TODO: Save the police killings dataset\n",
    "police_killings.to_csv(\"my_file.csv\")\n",
    "\n",
    "\n",
    "# Check your answer\n",
    "q3.check()"
   ]
  },
  {
   "cell_type": "code",
   "execution_count": 9,
   "id": "a613f1c4",
   "metadata": {
    "execution": {
     "iopub.execute_input": "2021-07-09T11:45:35.140397Z",
     "iopub.status.busy": "2021-07-09T11:45:35.139472Z",
     "iopub.status.idle": "2021-07-09T11:45:35.150545Z",
     "shell.execute_reply": "2021-07-09T11:45:35.151037Z",
     "shell.execute_reply.started": "2021-07-09T11:43:51.281093Z"
    },
    "papermill": {
     "duration": 0.035305,
     "end_time": "2021-07-09T11:45:35.151232",
     "exception": false,
     "start_time": "2021-07-09T11:45:35.115927",
     "status": "completed"
    },
    "tags": []
   },
   "outputs": [
    {
     "data": {
      "application/javascript": [
       "parent.postMessage({\"jupyterEvent\": \"custom.exercise_interaction\", \"data\": {\"interactionType\": 2, \"questionType\": 2, \"questionId\": \"3_SaveCSV\", \"learnToolsVersion\": \"0.3.4\", \"valueTowardsCompletion\": 0.0, \"failureMessage\": \"\", \"exceptionClass\": \"\", \"trace\": \"\", \"outcomeType\": 4}}, \"*\")"
      ],
      "text/plain": [
       "<IPython.core.display.Javascript object>"
      ]
     },
     "metadata": {},
     "output_type": "display_data"
    },
    {
     "data": {
      "text/markdown": [
       "<span style=\"color:#3366cc\">Hint:</span> Use `.to_csv().`"
      ],
      "text/plain": [
       "Hint: Use `.to_csv().`"
      ]
     },
     "metadata": {},
     "output_type": "display_data"
    },
    {
     "data": {
      "application/javascript": [
       "parent.postMessage({\"jupyterEvent\": \"custom.exercise_interaction\", \"data\": {\"interactionType\": 3, \"questionType\": 2, \"questionId\": \"3_SaveCSV\", \"learnToolsVersion\": \"0.3.4\", \"valueTowardsCompletion\": 0.0, \"failureMessage\": \"\", \"exceptionClass\": \"\", \"trace\": \"\", \"outcomeType\": 4}}, \"*\")"
      ],
      "text/plain": [
       "<IPython.core.display.Javascript object>"
      ]
     },
     "metadata": {},
     "output_type": "display_data"
    },
    {
     "data": {
      "text/markdown": [
       "<span style=\"color:#33cc99\">Solution:</span> \n",
       "```python\n",
       "\n",
       "police_killings.to_csv(\"my_file.csv\")\n",
       "\n",
       "```"
      ],
      "text/plain": [
       "Solution: \n",
       "```python\n",
       "\n",
       "police_killings.to_csv(\"my_file.csv\")\n",
       "\n",
       "```"
      ]
     },
     "metadata": {},
     "output_type": "display_data"
    }
   ],
   "source": [
    "# Lines below will give you a hint or solution code\n",
    "q3.hint()\n",
    "q3.solution()"
   ]
  },
  {
   "cell_type": "markdown",
   "id": "cc62742b",
   "metadata": {
    "papermill": {
     "duration": 0.029353,
     "end_time": "2021-07-09T11:45:35.203267",
     "exception": false,
     "start_time": "2021-07-09T11:45:35.173914",
     "status": "completed"
    },
    "tags": []
   },
   "source": [
    "# (Optional) More practice\n",
    "\n",
    "Check out [this dataset of files in different character encodings](https://www.kaggle.com/rtatman/character-encoding-examples). Can you read in all the files with their original encodings and them save them out as UTF-8 files?\n",
    "\n",
    "If you have a file that's in UTF-8 but has just a couple of weird-looking characters in it, you can try out the [ftfy module](https://ftfy.readthedocs.io/en/latest/#) and see if it helps. \n",
    "\n",
    "# Keep going\n",
    "\n",
    "In the final lesson, learn how to [**clean up inconsistent text entries**](https://www.kaggle.com/alexisbcook/inconsistent-data-entry) in your dataset."
   ]
  },
  {
   "cell_type": "markdown",
   "id": "3650f398",
   "metadata": {
    "papermill": {
     "duration": 0.026289,
     "end_time": "2021-07-09T11:45:35.256428",
     "exception": false,
     "start_time": "2021-07-09T11:45:35.230139",
     "status": "completed"
    },
    "tags": []
   },
   "source": [
    "---\n",
    "\n",
    "\n",
    "\n",
    "\n",
    "*Have questions or comments? Visit the [Learn Discussion forum](https://www.kaggle.com/learn-forum/172650) to chat with other Learners.*"
   ]
  }
 ],
 "metadata": {
  "kernelspec": {
   "display_name": "Python 3",
   "language": "python",
   "name": "python3"
  },
  "language_info": {
   "codemirror_mode": {
    "name": "ipython",
    "version": 3
   },
   "file_extension": ".py",
   "mimetype": "text/x-python",
   "name": "python",
   "nbconvert_exporter": "python",
   "pygments_lexer": "ipython3",
   "version": "3.7.10"
  },
  "papermill": {
   "default_parameters": {},
   "duration": 10.897272,
   "end_time": "2021-07-09T11:45:36.853942",
   "environment_variables": {},
   "exception": null,
   "input_path": "__notebook__.ipynb",
   "output_path": "__notebook__.ipynb",
   "parameters": {},
   "start_time": "2021-07-09T11:45:25.956670",
   "version": "2.3.3"
  }
 },
 "nbformat": 4,
 "nbformat_minor": 5
}
