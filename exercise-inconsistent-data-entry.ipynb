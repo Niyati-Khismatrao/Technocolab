{
 "cells": [
  {
   "cell_type": "markdown",
   "id": "6729d88a",
   "metadata": {
    "papermill": {
     "duration": 0.016559,
     "end_time": "2021-07-09T12:08:41.791957",
     "exception": false,
     "start_time": "2021-07-09T12:08:41.775398",
     "status": "completed"
    },
    "tags": []
   },
   "source": [
    "**This notebook is an exercise in the [Data Cleaning](https://www.kaggle.com/learn/data-cleaning) course.  You can reference the tutorial at [this link](https://www.kaggle.com/alexisbcook/inconsistent-data-entry).**\n",
    "\n",
    "---\n"
   ]
  },
  {
   "cell_type": "markdown",
   "id": "2e007884",
   "metadata": {
    "papermill": {
     "duration": 0.015888,
     "end_time": "2021-07-09T12:08:41.825151",
     "exception": false,
     "start_time": "2021-07-09T12:08:41.809263",
     "status": "completed"
    },
    "tags": []
   },
   "source": [
    "In this exercise, you'll apply what you learned in the **Inconsistent data entry** tutorial.\n",
    "\n",
    "# Setup\n",
    "\n",
    "The questions below will give you feedback on your work. Run the following cell to set up the feedback system."
   ]
  },
  {
   "cell_type": "code",
   "execution_count": 1,
   "id": "67a8b8fb",
   "metadata": {
    "execution": {
     "iopub.execute_input": "2021-07-09T12:08:41.878291Z",
     "iopub.status.busy": "2021-07-09T12:08:41.877263Z",
     "iopub.status.idle": "2021-07-09T12:08:42.075734Z",
     "shell.execute_reply": "2021-07-09T12:08:42.074363Z",
     "shell.execute_reply.started": "2021-07-09T11:51:33.503552Z"
    },
    "papermill": {
     "duration": 0.231814,
     "end_time": "2021-07-09T12:08:42.076011",
     "exception": false,
     "start_time": "2021-07-09T12:08:41.844197",
     "status": "completed"
    },
    "tags": []
   },
   "outputs": [
    {
     "name": "stdout",
     "output_type": "stream",
     "text": [
      "Setup Complete\n"
     ]
    }
   ],
   "source": [
    "from learntools.core import binder\n",
    "binder.bind(globals())\n",
    "from learntools.data_cleaning.ex5 import *\n",
    "print(\"Setup Complete\")"
   ]
  },
  {
   "cell_type": "markdown",
   "id": "fad239f1",
   "metadata": {
    "papermill": {
     "duration": 0.015925,
     "end_time": "2021-07-09T12:08:42.109814",
     "exception": false,
     "start_time": "2021-07-09T12:08:42.093889",
     "status": "completed"
    },
    "tags": []
   },
   "source": [
    "# Get our environment set up\n",
    "\n",
    "The first thing we'll need to do is load in the libraries and dataset we'll be using.  We use the same dataset from the tutorial."
   ]
  },
  {
   "cell_type": "code",
   "execution_count": 2,
   "id": "256cf1ae",
   "metadata": {
    "execution": {
     "iopub.execute_input": "2021-07-09T12:08:42.147754Z",
     "iopub.status.busy": "2021-07-09T12:08:42.147075Z",
     "iopub.status.idle": "2021-07-09T12:08:42.161749Z",
     "shell.execute_reply": "2021-07-09T12:08:42.161203Z",
     "shell.execute_reply.started": "2021-07-09T11:51:38.399340Z"
    },
    "papermill": {
     "duration": 0.03616,
     "end_time": "2021-07-09T12:08:42.161896",
     "exception": false,
     "start_time": "2021-07-09T12:08:42.125736",
     "status": "completed"
    },
    "tags": []
   },
   "outputs": [],
   "source": [
    "# modules we'll use\n",
    "import pandas as pd\n",
    "import numpy as np\n",
    "\n",
    "# helpful modules\n",
    "import fuzzywuzzy\n",
    "from fuzzywuzzy import process\n",
    "import chardet\n",
    "\n",
    "# read in all our data\n",
    "professors = pd.read_csv(\"../input/pakistan-intellectual-capital/pakistan_intellectual_capital.csv\")\n",
    "\n",
    "# set seed for reproducibility\n",
    "np.random.seed(0)"
   ]
  },
  {
   "cell_type": "markdown",
   "id": "8a75dab6",
   "metadata": {
    "papermill": {
     "duration": 0.015624,
     "end_time": "2021-07-09T12:08:42.193508",
     "exception": false,
     "start_time": "2021-07-09T12:08:42.177884",
     "status": "completed"
    },
    "tags": []
   },
   "source": [
    "Next, we'll redo all of the work that we did in the tutorial."
   ]
  },
  {
   "cell_type": "code",
   "execution_count": 3,
   "id": "d6243f8c",
   "metadata": {
    "execution": {
     "iopub.execute_input": "2021-07-09T12:08:42.240707Z",
     "iopub.status.busy": "2021-07-09T12:08:42.240018Z",
     "iopub.status.idle": "2021-07-09T12:08:42.244778Z",
     "shell.execute_reply": "2021-07-09T12:08:42.244267Z",
     "shell.execute_reply.started": "2021-07-09T11:51:46.190447Z"
    },
    "papermill": {
     "duration": 0.035355,
     "end_time": "2021-07-09T12:08:42.244921",
     "exception": false,
     "start_time": "2021-07-09T12:08:42.209566",
     "status": "completed"
    },
    "tags": []
   },
   "outputs": [
    {
     "name": "stdout",
     "output_type": "stream",
     "text": [
      "All done!\n"
     ]
    }
   ],
   "source": [
    "# convert to lower case\n",
    "professors['Country'] = professors['Country'].str.lower()\n",
    "# remove trailing white spaces\n",
    "professors['Country'] = professors['Country'].str.strip()\n",
    "\n",
    "# get the top 10 closest matches to \"south korea\"\n",
    "countries = professors['Country'].unique()\n",
    "matches = fuzzywuzzy.process.extract(\"south korea\", countries, limit=10, scorer=fuzzywuzzy.fuzz.token_sort_ratio)\n",
    "\n",
    "def replace_matches_in_column(df, column, string_to_match, min_ratio = 47):\n",
    "    # get a list of unique strings\n",
    "    strings = df[column].unique()\n",
    "    \n",
    "    # get the top 10 closest matches to our input string\n",
    "    matches = fuzzywuzzy.process.extract(string_to_match, strings, \n",
    "                                         limit=10, scorer=fuzzywuzzy.fuzz.token_sort_ratio)\n",
    "\n",
    "    # only get matches with a ratio > 90\n",
    "    close_matches = [matches[0] for matches in matches if matches[1] >= min_ratio]\n",
    "\n",
    "    # get the rows of all the close matches in our dataframe\n",
    "    rows_with_matches = df[column].isin(close_matches)\n",
    "\n",
    "    # replace all rows with close matches with the input matches \n",
    "    df.loc[rows_with_matches, column] = string_to_match\n",
    "    \n",
    "    # let us know the function's done\n",
    "    print(\"All done!\")\n",
    "    \n",
    "replace_matches_in_column(df=professors, column='Country', string_to_match=\"south korea\")\n",
    "countries = professors['Country'].unique()"
   ]
  },
  {
   "cell_type": "markdown",
   "id": "450d3016",
   "metadata": {
    "papermill": {
     "duration": 0.016114,
     "end_time": "2021-07-09T12:08:42.277408",
     "exception": false,
     "start_time": "2021-07-09T12:08:42.261294",
     "status": "completed"
    },
    "tags": []
   },
   "source": [
    "# 1) Examine another column\n",
    "\n",
    "Write code below to take a look at all the unique values in the \"Graduated from\" column."
   ]
  },
  {
   "cell_type": "code",
   "execution_count": 4,
   "id": "4118f6c9",
   "metadata": {
    "execution": {
     "iopub.execute_input": "2021-07-09T12:08:42.316658Z",
     "iopub.status.busy": "2021-07-09T12:08:42.315944Z",
     "iopub.status.idle": "2021-07-09T12:08:42.318711Z",
     "shell.execute_reply": "2021-07-09T12:08:42.319197Z",
     "shell.execute_reply.started": "2021-07-09T12:06:21.859134Z"
    },
    "papermill": {
     "duration": 0.025401,
     "end_time": "2021-07-09T12:08:42.319361",
     "exception": false,
     "start_time": "2021-07-09T12:08:42.293960",
     "status": "completed"
    },
    "tags": []
   },
   "outputs": [],
   "source": [
    "# TODO: Your code here\n",
    "professors['Graduated from'] = professors['Graduated from'].str.strip()"
   ]
  },
  {
   "cell_type": "markdown",
   "id": "4a4258d6",
   "metadata": {
    "papermill": {
     "duration": 0.015926,
     "end_time": "2021-07-09T12:08:42.352065",
     "exception": false,
     "start_time": "2021-07-09T12:08:42.336139",
     "status": "completed"
    },
    "tags": []
   },
   "source": [
    "Do you notice any inconsistencies in the data?  Can any of the inconsistencies in the data be fixed by removing white spaces at the beginning and end of cells?\n",
    "\n",
    "Once you have answered these questions, run the code cell below to get credit for your work."
   ]
  },
  {
   "cell_type": "code",
   "execution_count": 5,
   "id": "97359638",
   "metadata": {
    "execution": {
     "iopub.execute_input": "2021-07-09T12:08:42.392802Z",
     "iopub.status.busy": "2021-07-09T12:08:42.391787Z",
     "iopub.status.idle": "2021-07-09T12:08:42.398535Z",
     "shell.execute_reply": "2021-07-09T12:08:42.397970Z",
     "shell.execute_reply.started": "2021-07-09T12:06:27.227291Z"
    },
    "papermill": {
     "duration": 0.030294,
     "end_time": "2021-07-09T12:08:42.398673",
     "exception": false,
     "start_time": "2021-07-09T12:08:42.368379",
     "status": "completed"
    },
    "tags": []
   },
   "outputs": [
    {
     "data": {
      "application/javascript": [
       "parent.postMessage({\"jupyterEvent\": \"custom.exercise_interaction\", \"data\": {\"outcomeType\": 1, \"valueTowardsCompletion\": 0.3333333333333333, \"interactionType\": 1, \"questionType\": 4, \"questionId\": \"1_ExamineProvince\", \"learnToolsVersion\": \"0.3.4\", \"failureMessage\": \"\", \"exceptionClass\": \"\", \"trace\": \"\"}}, \"*\")"
      ],
      "text/plain": [
       "<IPython.core.display.Javascript object>"
      ]
     },
     "metadata": {},
     "output_type": "display_data"
    },
    {
     "data": {
      "text/markdown": [
       "<span style=\"color:#33cc33\">Correct:</span> \n",
       "\n",
       "There are inconsistencies that can be fixed by removing white spaces at the beginning and end of cells.  For instance, \"University of Central Florida\" and \" University of Central Florida\" both appear in the column."
      ],
      "text/plain": [
       "Correct: \n",
       "\n",
       "There are inconsistencies that can be fixed by removing white spaces at the beginning and end of cells.  For instance, \"University of Central Florida\" and \" University of Central Florida\" both appear in the column."
      ]
     },
     "metadata": {},
     "output_type": "display_data"
    }
   ],
   "source": [
    "# Check your answer (Run this code cell to receive credit!)\n",
    "q1.check()"
   ]
  },
  {
   "cell_type": "code",
   "execution_count": 6,
   "id": "9182a876",
   "metadata": {
    "execution": {
     "iopub.execute_input": "2021-07-09T12:08:42.439289Z",
     "iopub.status.busy": "2021-07-09T12:08:42.438272Z",
     "iopub.status.idle": "2021-07-09T12:08:42.444378Z",
     "shell.execute_reply": "2021-07-09T12:08:42.443815Z",
     "shell.execute_reply.started": "2021-07-09T11:52:01.701950Z"
    },
    "papermill": {
     "duration": 0.028372,
     "end_time": "2021-07-09T12:08:42.444522",
     "exception": false,
     "start_time": "2021-07-09T12:08:42.416150",
     "status": "completed"
    },
    "tags": []
   },
   "outputs": [
    {
     "data": {
      "application/javascript": [
       "parent.postMessage({\"jupyterEvent\": \"custom.exercise_interaction\", \"data\": {\"interactionType\": 2, \"questionType\": 4, \"questionId\": \"1_ExamineProvince\", \"learnToolsVersion\": \"0.3.4\", \"valueTowardsCompletion\": 0.0, \"failureMessage\": \"\", \"exceptionClass\": \"\", \"trace\": \"\", \"outcomeType\": 4}}, \"*\")"
      ],
      "text/plain": [
       "<IPython.core.display.Javascript object>"
      ]
     },
     "metadata": {},
     "output_type": "display_data"
    },
    {
     "data": {
      "text/markdown": [
       "<span style=\"color:#3366cc\">Hint:</span> Use `unis = professors['Graduated from'].unique()` to take a look at the unique values in the 'Graduated from' column. You may find it useful to sort the data before printing it."
      ],
      "text/plain": [
       "Hint: Use `unis = professors['Graduated from'].unique()` to take a look at the unique values in the 'Graduated from' column. You may find it useful to sort the data before printing it."
      ]
     },
     "metadata": {},
     "output_type": "display_data"
    }
   ],
   "source": [
    "# Line below will give you a hint\n",
    "q1.hint()"
   ]
  },
  {
   "cell_type": "markdown",
   "id": "e8cd1f9f",
   "metadata": {
    "papermill": {
     "duration": 0.017924,
     "end_time": "2021-07-09T12:08:42.480696",
     "exception": false,
     "start_time": "2021-07-09T12:08:42.462772",
     "status": "completed"
    },
    "tags": []
   },
   "source": [
    "# 2) Do some text pre-processing\n",
    "\n",
    "Convert every entry in the \"Graduated from\" column in the `professors` DataFrame to remove white spaces at the beginning and end of cells."
   ]
  },
  {
   "cell_type": "code",
   "execution_count": 7,
   "id": "10019ae8",
   "metadata": {
    "execution": {
     "iopub.execute_input": "2021-07-09T12:08:42.520847Z",
     "iopub.status.busy": "2021-07-09T12:08:42.519885Z",
     "iopub.status.idle": "2021-07-09T12:08:42.532899Z",
     "shell.execute_reply": "2021-07-09T12:08:42.533360Z",
     "shell.execute_reply.started": "2021-07-09T12:06:04.764483Z"
    },
    "papermill": {
     "duration": 0.034605,
     "end_time": "2021-07-09T12:08:42.533534",
     "exception": false,
     "start_time": "2021-07-09T12:08:42.498929",
     "status": "completed"
    },
    "tags": []
   },
   "outputs": [
    {
     "data": {
      "application/javascript": [
       "parent.postMessage({\"jupyterEvent\": \"custom.exercise_interaction\", \"data\": {\"outcomeType\": 1, \"valueTowardsCompletion\": 0.3333333333333333, \"interactionType\": 1, \"questionType\": 1, \"questionId\": \"2_TextProcessing\", \"learnToolsVersion\": \"0.3.4\", \"failureMessage\": \"\", \"exceptionClass\": \"\", \"trace\": \"\"}}, \"*\")"
      ],
      "text/plain": [
       "<IPython.core.display.Javascript object>"
      ]
     },
     "metadata": {},
     "output_type": "display_data"
    },
    {
     "data": {
      "text/markdown": [
       "<span style=\"color:#33cc33\">Correct</span>"
      ],
      "text/plain": [
       "Correct"
      ]
     },
     "metadata": {},
     "output_type": "display_data"
    }
   ],
   "source": [
    "# TODO: Your code here\n",
    "professors['Graduated from'] = professors['Graduated from'].str.strip()\n",
    "# Check your answer\n",
    "q2.check()"
   ]
  },
  {
   "cell_type": "code",
   "execution_count": 8,
   "id": "b4aba29e",
   "metadata": {
    "execution": {
     "iopub.execute_input": "2021-07-09T12:08:42.577165Z",
     "iopub.status.busy": "2021-07-09T12:08:42.576489Z",
     "iopub.status.idle": "2021-07-09T12:08:42.584253Z",
     "shell.execute_reply": "2021-07-09T12:08:42.584742Z",
     "shell.execute_reply.started": "2021-07-09T12:05:48.507437Z"
    },
    "papermill": {
     "duration": 0.032267,
     "end_time": "2021-07-09T12:08:42.584904",
     "exception": false,
     "start_time": "2021-07-09T12:08:42.552637",
     "status": "completed"
    },
    "tags": []
   },
   "outputs": [
    {
     "data": {
      "application/javascript": [
       "parent.postMessage({\"jupyterEvent\": \"custom.exercise_interaction\", \"data\": {\"interactionType\": 2, \"questionType\": 1, \"questionId\": \"2_TextProcessing\", \"learnToolsVersion\": \"0.3.4\", \"valueTowardsCompletion\": 0.0, \"failureMessage\": \"\", \"exceptionClass\": \"\", \"trace\": \"\", \"outcomeType\": 4}}, \"*\")"
      ],
      "text/plain": [
       "<IPython.core.display.Javascript object>"
      ]
     },
     "metadata": {},
     "output_type": "display_data"
    },
    {
     "data": {
      "text/markdown": [
       "<span style=\"color:#3366cc\">Hint:</span> In the tutorial, you did the same operation on a different column."
      ],
      "text/plain": [
       "Hint: In the tutorial, you did the same operation on a different column."
      ]
     },
     "metadata": {},
     "output_type": "display_data"
    },
    {
     "data": {
      "application/javascript": [
       "parent.postMessage({\"jupyterEvent\": \"custom.exercise_interaction\", \"data\": {\"interactionType\": 3, \"questionType\": 1, \"questionId\": \"2_TextProcessing\", \"learnToolsVersion\": \"0.3.4\", \"valueTowardsCompletion\": 0.0, \"failureMessage\": \"\", \"exceptionClass\": \"\", \"trace\": \"\", \"outcomeType\": 4}}, \"*\")"
      ],
      "text/plain": [
       "<IPython.core.display.Javascript object>"
      ]
     },
     "metadata": {},
     "output_type": "display_data"
    },
    {
     "data": {
      "text/markdown": [
       "<span style=\"color:#33cc99\">Solution:</span> \n",
       "```python\n",
       "professors['Graduated from'] = professors['Graduated from'].str.strip()\n",
       "\n",
       "```"
      ],
      "text/plain": [
       "Solution: \n",
       "```python\n",
       "professors['Graduated from'] = professors['Graduated from'].str.strip()\n",
       "\n",
       "```"
      ]
     },
     "metadata": {},
     "output_type": "display_data"
    }
   ],
   "source": [
    "# Lines below will give you a hint or solution code\n",
    "q2.hint()\n",
    "q2.solution()"
   ]
  },
  {
   "cell_type": "markdown",
   "id": "4b65efb0",
   "metadata": {
    "papermill": {
     "duration": 0.021302,
     "end_time": "2021-07-09T12:08:42.627397",
     "exception": false,
     "start_time": "2021-07-09T12:08:42.606095",
     "status": "completed"
    },
    "tags": []
   },
   "source": []
  },
  {
   "cell_type": "markdown",
   "id": "57c3cb6b",
   "metadata": {
    "papermill": {
     "duration": 0.021763,
     "end_time": "2021-07-09T12:08:42.670281",
     "exception": false,
     "start_time": "2021-07-09T12:08:42.648518",
     "status": "completed"
    },
    "tags": []
   },
   "source": [
    "# 3) Continue working with countries\n",
    "\n",
    "In the tutorial, we focused on cleaning up inconsistencies in the \"Country\" column.  Run the code cell below to view the list of unique values that we ended with."
   ]
  },
  {
   "cell_type": "code",
   "execution_count": 9,
   "id": "8341ebf8",
   "metadata": {
    "execution": {
     "iopub.execute_input": "2021-07-09T12:08:42.716239Z",
     "iopub.status.busy": "2021-07-09T12:08:42.715243Z",
     "iopub.status.idle": "2021-07-09T12:08:42.725333Z",
     "shell.execute_reply": "2021-07-09T12:08:42.724626Z",
     "shell.execute_reply.started": "2021-07-09T12:07:05.717900Z"
    },
    "papermill": {
     "duration": 0.034073,
     "end_time": "2021-07-09T12:08:42.725478",
     "exception": false,
     "start_time": "2021-07-09T12:08:42.691405",
     "status": "completed"
    },
    "tags": []
   },
   "outputs": [
    {
     "data": {
      "text/plain": [
       "array(['australia', 'austria', 'canada', 'china', 'finland', 'france',\n",
       "       'germany', 'greece', 'hongkong', 'ireland', 'italy', 'japan',\n",
       "       'macau', 'malaysia', 'mauritius', 'netherland', 'new zealand',\n",
       "       'norway', 'pakistan', 'portugal', 'russian federation',\n",
       "       'saudi arabia', 'scotland', 'singapore', 'south korea', 'spain',\n",
       "       'sweden', 'thailand', 'turkey', 'uk', 'urbana', 'usa', 'usofa'],\n",
       "      dtype=object)"
      ]
     },
     "execution_count": 9,
     "metadata": {},
     "output_type": "execute_result"
    }
   ],
   "source": [
    "# get all the unique values in the 'City' column\n",
    "countries = professors['Country'].unique()\n",
    "\n",
    "# sort them alphabetically and then take a closer look\n",
    "countries.sort()\n",
    "countries"
   ]
  },
  {
   "cell_type": "markdown",
   "id": "2d6c5027",
   "metadata": {
    "papermill": {
     "duration": 0.02124,
     "end_time": "2021-07-09T12:08:42.768506",
     "exception": false,
     "start_time": "2021-07-09T12:08:42.747266",
     "status": "completed"
    },
    "tags": []
   },
   "source": [
    "Take another look at the \"Country\" column and see if there's any more data cleaning we need to do.\n",
    "\n",
    "It looks like 'usa' and 'usofa' should be the same country.  Correct the \"Country\" column in the dataframe so that 'usofa' appears instead as 'usa'.\n",
    "\n",
    "**Use the most recent version of the DataFrame (with the whitespaces at the beginning and end of cells removed) from question 2.**"
   ]
  },
  {
   "cell_type": "code",
   "execution_count": 10,
   "id": "afd01f11",
   "metadata": {
    "execution": {
     "iopub.execute_input": "2021-07-09T12:08:42.823073Z",
     "iopub.status.busy": "2021-07-09T12:08:42.822385Z",
     "iopub.status.idle": "2021-07-09T12:08:42.829223Z",
     "shell.execute_reply": "2021-07-09T12:08:42.829667Z",
     "shell.execute_reply.started": "2021-07-09T12:08:12.935406Z"
    },
    "papermill": {
     "duration": 0.039099,
     "end_time": "2021-07-09T12:08:42.829838",
     "exception": false,
     "start_time": "2021-07-09T12:08:42.790739",
     "status": "completed"
    },
    "tags": []
   },
   "outputs": [
    {
     "name": "stdout",
     "output_type": "stream",
     "text": [
      "All done!\n"
     ]
    },
    {
     "data": {
      "application/javascript": [
       "parent.postMessage({\"jupyterEvent\": \"custom.exercise_interaction\", \"data\": {\"outcomeType\": 1, \"valueTowardsCompletion\": 0.3333333333333333, \"interactionType\": 1, \"questionType\": 1, \"questionId\": \"3_WorkingWithCities\", \"learnToolsVersion\": \"0.3.4\", \"failureMessage\": \"\", \"exceptionClass\": \"\", \"trace\": \"\"}}, \"*\")"
      ],
      "text/plain": [
       "<IPython.core.display.Javascript object>"
      ]
     },
     "metadata": {},
     "output_type": "display_data"
    },
    {
     "data": {
      "text/markdown": [
       "<span style=\"color:#33cc33\">Correct</span>"
      ],
      "text/plain": [
       "Correct"
      ]
     },
     "metadata": {},
     "output_type": "display_data"
    }
   ],
   "source": [
    "# TODO: Your code here!\n",
    "matches = fuzzywuzzy.process.extract(\"usa\", countries, limit=10, scorer=fuzzywuzzy.fuzz.token_sort_ratio)\n",
    "replace_matches_in_column(df=professors, column='Country', string_to_match=\"usa\", min_ratio=70)\n",
    "# Check your answer\n",
    "q3.check()"
   ]
  },
  {
   "cell_type": "code",
   "execution_count": 11,
   "id": "00bce0de",
   "metadata": {
    "execution": {
     "iopub.execute_input": "2021-07-09T12:08:42.881226Z",
     "iopub.status.busy": "2021-07-09T12:08:42.880219Z",
     "iopub.status.idle": "2021-07-09T12:08:42.889467Z",
     "shell.execute_reply": "2021-07-09T12:08:42.888790Z",
     "shell.execute_reply.started": "2021-07-09T12:08:18.395020Z"
    },
    "papermill": {
     "duration": 0.036861,
     "end_time": "2021-07-09T12:08:42.889627",
     "exception": false,
     "start_time": "2021-07-09T12:08:42.852766",
     "status": "completed"
    },
    "tags": []
   },
   "outputs": [
    {
     "data": {
      "application/javascript": [
       "parent.postMessage({\"jupyterEvent\": \"custom.exercise_interaction\", \"data\": {\"interactionType\": 2, \"questionType\": 1, \"questionId\": \"3_WorkingWithCities\", \"learnToolsVersion\": \"0.3.4\", \"valueTowardsCompletion\": 0.0, \"failureMessage\": \"\", \"exceptionClass\": \"\", \"trace\": \"\", \"outcomeType\": 4}}, \"*\")"
      ],
      "text/plain": [
       "<IPython.core.display.Javascript object>"
      ]
     },
     "metadata": {},
     "output_type": "display_data"
    },
    {
     "data": {
      "text/markdown": [
       "<span style=\"color:#3366cc\">Hint:</span> Use the `replace_matches_in_column()` function defined above."
      ],
      "text/plain": [
       "Hint: Use the `replace_matches_in_column()` function defined above."
      ]
     },
     "metadata": {},
     "output_type": "display_data"
    },
    {
     "data": {
      "application/javascript": [
       "parent.postMessage({\"jupyterEvent\": \"custom.exercise_interaction\", \"data\": {\"interactionType\": 3, \"questionType\": 1, \"questionId\": \"3_WorkingWithCities\", \"learnToolsVersion\": \"0.3.4\", \"valueTowardsCompletion\": 0.0, \"failureMessage\": \"\", \"exceptionClass\": \"\", \"trace\": \"\", \"outcomeType\": 4}}, \"*\")"
      ],
      "text/plain": [
       "<IPython.core.display.Javascript object>"
      ]
     },
     "metadata": {},
     "output_type": "display_data"
    },
    {
     "data": {
      "text/markdown": [
       "<span style=\"color:#33cc99\">Solution:</span> \n",
       "```python\n",
       "matches = fuzzywuzzy.process.extract(\"usa\", countries, limit=10, scorer=fuzzywuzzy.fuzz.token_sort_ratio)\n",
       "replace_matches_in_column(df=professors, column='Country', string_to_match=\"usa\", min_ratio=70)\n",
       "\n",
       "```"
      ],
      "text/plain": [
       "Solution: \n",
       "```python\n",
       "matches = fuzzywuzzy.process.extract(\"usa\", countries, limit=10, scorer=fuzzywuzzy.fuzz.token_sort_ratio)\n",
       "replace_matches_in_column(df=professors, column='Country', string_to_match=\"usa\", min_ratio=70)\n",
       "\n",
       "```"
      ]
     },
     "metadata": {},
     "output_type": "display_data"
    }
   ],
   "source": [
    "# Lines below will give you a hint or solution code\n",
    "q3.hint()\n",
    "q3.solution()"
   ]
  },
  {
   "cell_type": "markdown",
   "id": "37d83964",
   "metadata": {
    "papermill": {
     "duration": 0.026375,
     "end_time": "2021-07-09T12:08:42.941731",
     "exception": false,
     "start_time": "2021-07-09T12:08:42.915356",
     "status": "completed"
    },
    "tags": []
   },
   "source": [
    "# Congratulations!\n",
    "\n",
    "Congratulations for completing the **Data Cleaning** course on Kaggle Learn!\n",
    "\n",
    "To practice your new skills, you're encouraged to download and investigate some of [Kaggle's Datasets](https://www.kaggle.com/datasets)."
   ]
  },
  {
   "cell_type": "markdown",
   "id": "de0a527c",
   "metadata": {
    "papermill": {
     "duration": 0.024672,
     "end_time": "2021-07-09T12:08:42.992106",
     "exception": false,
     "start_time": "2021-07-09T12:08:42.967434",
     "status": "completed"
    },
    "tags": []
   },
   "source": [
    "---\n",
    "\n",
    "\n",
    "\n",
    "\n",
    "*Have questions or comments? Visit the [Learn Discussion forum](https://www.kaggle.com/learn-forum/172650) to chat with other Learners.*"
   ]
  }
 ],
 "metadata": {
  "kernelspec": {
   "display_name": "Python 3",
   "language": "python",
   "name": "python3"
  },
  "language_info": {
   "codemirror_mode": {
    "name": "ipython",
    "version": 3
   },
   "file_extension": ".py",
   "mimetype": "text/x-python",
   "name": "python",
   "nbconvert_exporter": "python",
   "pygments_lexer": "ipython3",
   "version": "3.7.10"
  },
  "papermill": {
   "default_parameters": {},
   "duration": 10.852726,
   "end_time": "2021-07-09T12:08:44.278816",
   "environment_variables": {},
   "exception": null,
   "input_path": "__notebook__.ipynb",
   "output_path": "__notebook__.ipynb",
   "parameters": {},
   "start_time": "2021-07-09T12:08:33.426090",
   "version": "2.3.3"
  }
 },
 "nbformat": 4,
 "nbformat_minor": 5
}
